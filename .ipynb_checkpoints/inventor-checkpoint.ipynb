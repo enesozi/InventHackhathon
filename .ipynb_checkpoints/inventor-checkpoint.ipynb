{
 "cells": [
  {
   "cell_type": "code",
   "execution_count": 1,
   "metadata": {
    "collapsed": true
   },
   "outputs": [],
   "source": [
    "import pandas as pd\n",
    "import numpy as np\n",
    "import matplotlib.pyplot as plt\n",
    "%matplotlib inline"
   ]
  },
  {
   "cell_type": "code",
   "execution_count": 106,
   "metadata": {
    "collapsed": false
   },
   "outputs": [
    {
     "data": {
      "text/plain": [
       "Date              object\n",
       "StoreCode         object\n",
       "ProductCode       object\n",
       "SalesQuantity      int64\n",
       "StoreStock         int64\n",
       "IncomingStock      int64\n",
       "SalesRevenue     float64\n",
       "dtype: object"
      ]
     },
     "execution_count": 106,
     "metadata": {},
     "output_type": "execute_result"
    }
   ],
   "source": [
    "data = pd.read_csv('InventoryPosition.csv',delimiter=';')\n",
    "data.dtypes\n",
    "#data['price'] = pd.to_numeric(data['price'], errors='coerce').fillna(0)"
   ]
  },
  {
   "cell_type": "code",
   "execution_count": 125,
   "metadata": {
    "collapsed": false
   },
   "outputs": [
    {
     "data": {
      "text/plain": [
       "ProductCode  StoreCode  ProductPrice  Date      \n",
       "Product1     Store1     48.93         2015.08.09    1\n",
       "                                      2015.08.17    1\n",
       "                                      2015.08.19    1\n",
       "                                      2015.08.26    1\n",
       "                        79.70         2015.06.27    1\n",
       "                                      2015.08.01    1\n",
       "                        111.27        2015.06.06    1\n",
       "                        157.04        2015.04.14    1\n",
       "                                      2015.05.14    1\n",
       "             Store11    48.93         2015.08.09    1\n",
       "                        79.70         2015.06.14    1\n",
       "                                      2015.06.16    1\n",
       "                                      2015.06.23    1\n",
       "                                      2015.07.19    1\n",
       "                        157.04        2015.05.16    1\n",
       "                                      2015.05.18    1\n",
       "             Store14    48.93         2015.08.05    1\n",
       "                                      2015.08.07    1\n",
       "                                      2015.08.12    1\n",
       "                        79.70         2015.07.26    1\n",
       "             Store15    79.70         2015.07.06    1\n",
       "                                      2015.07.25    1\n",
       "                                      2015.07.30    1\n",
       "                        111.27        2015.05.27    1\n",
       "             Store16    79.70         2015.06.05    1\n",
       "                                      2015.07.01    1\n",
       "                                      2015.07.11    1\n",
       "                        111.27        2015.05.27    1\n",
       "                                      2015.05.28    1\n",
       "                        157.04        2015.05.09    1\n",
       "                                                   ..\n",
       "Product99    Store21    51.07         2016.04.09    1\n",
       "                        52.06         2016.08.31    1\n",
       "                        84.09         2016.05.19    1\n",
       "                                      2016.07.02    1\n",
       "             Store3     84.09         2016.05.12    1\n",
       "                                      2016.07.01    1\n",
       "                                      2016.07.07    1\n",
       "                                      2016.07.30    1\n",
       "             Store4     52.06         2016.08.07    1\n",
       "                                      2016.08.20    1\n",
       "                                      2016.08.26    1\n",
       "                        84.09         2016.06.23    1\n",
       "                                      2016.06.26    1\n",
       "                                      2016.06.27    1\n",
       "                                      2016.08.01    1\n",
       "             Store6     84.09         2016.05.05    1\n",
       "                                      2016.05.08    1\n",
       "                                      2016.06.17    1\n",
       "                                      2016.06.22    1\n",
       "                                      2016.06.23    1\n",
       "                                      2016.07.23    1\n",
       "             Store7     82.44         2016.06.12    1\n",
       "                        84.09         2016.04.12    1\n",
       "                                      2016.07.04    1\n",
       "             Store9     67.27         2016.06.14    1\n",
       "                        71.07         2016.04.18    1\n",
       "                        84.09         2016.06.23    1\n",
       "                                      2016.07.09    1\n",
       "                                      2016.07.15    1\n",
       "                                      2016.07.22    1\n",
       "dtype: int64"
      ]
     },
     "execution_count": 125,
     "metadata": {},
     "output_type": "execute_result"
    }
   ],
   "source": [
    "#data_array = np.array(data)\n",
    "data['ProductPrice'] = (data['SalesRevenue']/data['SalesQuantity']).round(2)\n",
    "#data.ProductPrice = -data.ProductPrice.round(2)\n",
    "#data.index.values\n",
    "d = data.groupby([\"ProductCode\",\"StoreCode\", \"ProductPrice\",\"Date\"]).size()\n",
    "d"
   ]
  },
  {
   "cell_type": "code",
   "execution_count": 4,
   "metadata": {
    "collapsed": false
   },
   "outputs": [
    {
     "data": {
      "text/plain": [
       "StoreCode  ProductCode  ProductPrice  Date      \n",
       "Store1     Product1     48.93         09.08.2015    1\n",
       "                                      17.08.2015    1\n",
       "                                      19.08.2015    1\n",
       "                                      26.08.2015    1\n",
       "                        79.70         01.08.2015    1\n",
       "                                      27.06.2015    1\n",
       "                        111.27        06.06.2015    1\n",
       "                        157.04        14.04.2015    1\n",
       "                                      14.05.2015    1\n",
       "           Product10    71.63         22.08.2015    1\n",
       "                        117.07        02.07.2015    1\n",
       "                                      05.06.2015    1\n",
       "                                      06.07.2015    1\n",
       "                                      10.06.2015    1\n",
       "                                      17.06.2015    1\n",
       "                                      27.06.2015    1\n",
       "                        230.30        01.05.2015    1\n",
       "                                      02.04.2015    1\n",
       "                                      02.05.2015    1\n",
       "                                      09.04.2015    1\n",
       "                                      10.04.2015    1\n",
       "                                      14.04.2015    1\n",
       "                                      14.05.2015    1\n",
       "                                      19.04.2015    1\n",
       "                                      20.04.2015    1\n",
       "                                      22.05.2015    1\n",
       "                                      23.05.2015    1\n",
       "                                      24.04.2015    1\n",
       "                                      24.05.2015    1\n",
       "                                      26.03.2015    1\n",
       "                                                   ..\n",
       "Store9     Product94    61.60         10.06.2016    1\n",
       "                        77.00         04.06.2016    1\n",
       "                                      11.06.2016    1\n",
       "                                      26.06.2016    1\n",
       "           Product95    52.06         10.08.2016    1\n",
       "                        84.09         23.07.2016    1\n",
       "                                      30.06.2016    1\n",
       "           Product96    8.40          20.04.2016    1\n",
       "                        84.09         12.05.2016    1\n",
       "                                      16.06.2016    1\n",
       "                                      21.07.2016    1\n",
       "                                      26.07.2016    1\n",
       "           Product97    67.27         06.06.2016    1\n",
       "                                      15.06.2016    1\n",
       "                                      29.05.2016    1\n",
       "                        84.09         11.07.2016    1\n",
       "                                      19.04.2016    1\n",
       "                                      21.07.2016    1\n",
       "           Product98    67.27         04.06.2016    1\n",
       "                                      12.06.2016    1\n",
       "                        84.09         08.07.2016    1\n",
       "                                      10.07.2016    1\n",
       "                                      22.06.2016    1\n",
       "                                      26.06.2016    1\n",
       "           Product99    67.27         14.06.2016    1\n",
       "                        71.07         18.04.2016    1\n",
       "                        84.09         09.07.2016    1\n",
       "                                      15.07.2016    1\n",
       "                                      22.07.2016    1\n",
       "                                      23.06.2016    1\n",
       "dtype: int64"
      ]
     },
     "execution_count": 4,
     "metadata": {},
     "output_type": "execute_result"
    }
   ],
   "source": [
    "data.groupby([\"StoreCode\",\"ProductCode\", \"ProductPrice\",\"Date\"]).size()\n"
   ]
  }
 ],
 "metadata": {
  "kernelspec": {
   "display_name": "Python 3",
   "language": "python",
   "name": "python3"
  },
  "language_info": {
   "codemirror_mode": {
    "name": "ipython",
    "version": 3
   },
   "file_extension": ".py",
   "mimetype": "text/x-python",
   "name": "python",
   "nbconvert_exporter": "python",
   "pygments_lexer": "ipython3",
   "version": "3.6.0"
  }
 },
 "nbformat": 4,
 "nbformat_minor": 2
}
