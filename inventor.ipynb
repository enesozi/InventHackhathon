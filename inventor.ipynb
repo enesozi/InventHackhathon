{
 "cells": [
  {
   "cell_type": "code",
   "execution_count": 1,
   "metadata": {
    "collapsed": true
   },
   "outputs": [],
   "source": [
    "import pandas as pd\n",
    "import numpy as np\n",
    "import seaborn as sns\n",
    "import matplotlib.pyplot as plt\n",
    "%matplotlib inline"
   ]
  },
  {
   "cell_type": "code",
   "execution_count": 48,
   "metadata": {
    "collapsed": false
   },
   "outputs": [
    {
     "data": {
      "text/plain": [
       "Date              object\n",
       "StoreCode         object\n",
       "ProductCode       object\n",
       "SalesQuantity      int64\n",
       "StoreStock         int64\n",
       "IncomingStock      int64\n",
       "SalesRevenue     float64\n",
       "dtype: object"
      ]
     },
     "execution_count": 48,
     "metadata": {},
     "output_type": "execute_result"
    }
   ],
   "source": [
    "data = pd.read_csv('InventoryPosition.csv',delimiter=';')\n",
    "data.dtypes\n",
    "#data['price'] = pd.to_numeric(data['price'], errors='coerce').fillna(0)"
   ]
  },
  {
   "cell_type": "code",
   "execution_count": 56,
   "metadata": {
    "collapsed": false
   },
   "outputs": [
    {
     "data": {
      "text/plain": [
       "ProductCode  ProductPrice\n",
       "Product1     1.570393e+06     7\n",
       "             7.970336e+08     2\n",
       "             1.058871e+09     1\n",
       "             1.112691e+09     7\n",
       "             4.892682e+09     1\n",
       "             4.892682e+09    23\n",
       "             7.970336e+09    38\n",
       "Product10    2.302966e+06    32\n",
       "             1.170739e+09     3\n",
       "             1.170739e+09    41\n",
       "             7.163072e+09     2\n",
       "             7.625205e+09     1\n",
       "Product100   5.754136e+08     1\n",
       "             6.115783e+08     5\n",
       "             8.409486e+08     2\n",
       "             4.456668e+09     1\n",
       "             5.205939e+09     7\n",
       "             5.347660e+09     1\n",
       "             6.321176e+09     1\n",
       "             6.349251e+09     1\n",
       "             6.727437e+09     8\n",
       "             6.895911e+09     1\n",
       "             8.409482e+09    28\n",
       "Product101   7.700330e+05    47\n",
       "             5.005523e+07     1\n",
       "             1.948801e+08     1\n",
       "             5.137017e+08     1\n",
       "             5.269090e+08    13\n",
       "             5.269094e+08     1\n",
       "             5.463546e+08     1\n",
       "                             ..\n",
       "Product97    5.199829e+09     1\n",
       "             5.205939e+09     6\n",
       "             5.466665e+09     4\n",
       "             5.886410e+09     4\n",
       "             6.727437e+09     8\n",
       "             7.652284e+09     1\n",
       "             8.409482e+09    47\n",
       "Product98    6.115783e+08     5\n",
       "             8.120479e+08     1\n",
       "             8.409486e+08     4\n",
       "             2.959637e+09     1\n",
       "             4.752719e+09     1\n",
       "             5.205939e+09    10\n",
       "             5.466665e+09     4\n",
       "             5.849706e+09     1\n",
       "             6.727437e+09    11\n",
       "             6.758014e+09     1\n",
       "             7.860369e+09     1\n",
       "             7.981752e+09     1\n",
       "             8.409482e+09    47\n",
       "Product99    6.115783e+08     5\n",
       "             7.327770e+08     1\n",
       "             8.409486e+08     2\n",
       "             5.107371e+09     1\n",
       "             5.205939e+09    12\n",
       "             5.466665e+09     1\n",
       "             6.727437e+09     2\n",
       "             7.107299e+09     1\n",
       "             8.244335e+09     1\n",
       "             8.409482e+09    37\n",
       "dtype: int64"
      ]
     },
     "execution_count": 56,
     "metadata": {},
     "output_type": "execute_result"
    }
   ],
   "source": [
    "#data_array = np.array(data)\n",
    "data['ProductPrice'] = data['SalesRevenue']/data['SalesQuantity']\n",
    "d = data.groupby([\"ProductCode\", \"ProductPrice\"]).size()\n",
    "d\n"
   ]
  }
 ],
 "metadata": {
  "kernelspec": {
   "display_name": "Python 3",
   "language": "python",
   "name": "python3"
  },
  "language_info": {
   "codemirror_mode": {
    "name": "ipython",
    "version": 3
   },
   "file_extension": ".py",
   "mimetype": "text/x-python",
   "name": "python",
   "nbconvert_exporter": "python",
   "pygments_lexer": "ipython3",
   "version": "3.6.0"
  }
 },
 "nbformat": 4,
 "nbformat_minor": 2
}
