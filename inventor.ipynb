{
 "cells": [
  {
   "cell_type": "code",
   "execution_count": 1,
   "metadata": {
    "collapsed": true
   },
   "outputs": [],
   "source": [
    "import pandas as pd\n",
    "import numpy as np\n",
    "import matplotlib.pyplot as plt\n",
    "%matplotlib inline"
   ]
  },
  {
   "cell_type": "code",
   "execution_count": 2,
   "metadata": {
    "collapsed": false
   },
   "outputs": [
    {
     "data": {
      "text/plain": [
       "Date              object\n",
       "StoreCode         object\n",
       "ProductCode       object\n",
       "SalesQuantity      int64\n",
       "StoreStock         int64\n",
       "IncomingStock      int64\n",
       "SalesRevenue     float64\n",
       "dtype: object"
      ]
     },
     "execution_count": 2,
     "metadata": {},
     "output_type": "execute_result"
    }
   ],
   "source": [
    "data = pd.read_csv('InventoryPosition.csv',delimiter=';')\n",
    "data.dtypes\n",
    "#data['price'] = pd.to_numeric(data['price'], errors='coerce').fillna(0)"
   ]
  },
  {
   "cell_type": "code",
   "execution_count": null,
   "metadata": {
    "collapsed": false
   },
   "outputs": [],
   "source": [
    "#data_array = np.array(data)\n",
    "data['ProductPrice'] = data['SalesRevenue']/data['SalesQuantity']\n",
    "data.ProductPrice = data.ProductPrice.round(2)\n",
    "data.groupby([\"StoreCode\",\"ProductCode\", \"ProductPrice\",\"Date\"]).apply(pd.DataFrame.sort_values(by='ProductPrice')).size()\n",
    "\n"
   ]
  },
  {
   "cell_type": "code",
   "execution_count": null,
   "metadata": {
    "collapsed": true
   },
   "outputs": [],
   "source": [
    "data.groupby([\"StoreCode\",\"ProductCode\", \"ProductPrice\",\"Date\"]).size()\n"
   ]
  }
 ],
 "metadata": {
  "kernelspec": {
   "display_name": "Python 3",
   "language": "python",
   "name": "python3"
  },
  "language_info": {
   "codemirror_mode": {
    "name": "ipython",
    "version": 3
   },
   "file_extension": ".py",
   "mimetype": "text/x-python",
   "name": "python",
   "nbconvert_exporter": "python",
   "pygments_lexer": "ipython3",
   "version": "3.6.0"
  }
 },
 "nbformat": 4,
 "nbformat_minor": 2
}
