{
 "cells": [
  {
   "cell_type": "code",
   "execution_count": 59,
   "metadata": {
    "collapsed": true
   },
   "outputs": [],
   "source": [
    "import pandas as pd\n",
    "import numpy as np\n",
    "import matplotlib.pyplot as plt\n",
    "%matplotlib inline"
   ]
  },
  {
   "cell_type": "code",
   "execution_count": 61,
   "metadata": {
    "collapsed": false
   },
   "outputs": [
    {
     "data": {
      "text/plain": [
       "Date              object\n",
       "StoreCode         object\n",
       "ProductCode       object\n",
       "SalesQuantity      int64\n",
       "StoreStock         int64\n",
       "IncomingStock      int64\n",
       "SalesRevenue     float64\n",
       "dtype: object"
      ]
     },
     "execution_count": 61,
     "metadata": {},
     "output_type": "execute_result"
    }
   ],
   "source": [
    "data = pd.read_csv('InventoryPosition.csv',delimiter=';')\n",
    "data.dtypes\n",
    "#data['price'] = pd.to_numeric(data['price'], errors='coerce').fillna(0)"
   ]
  },
  {
   "cell_type": "code",
   "execution_count": 60,
   "metadata": {
    "collapsed": false
   },
   "outputs": [
    {
     "data": {
      "text/plain": [
       "StoreCode  ProductCode  ProductPrice \n",
       "Store1     Product1      1.570393e+06     2\n",
       "                         1.112691e+09     1\n",
       "                         4.892682e+09     1\n",
       "                         4.892682e+09     3\n",
       "                         7.970336e+09     2\n",
       "           Product10     2.302966e+06    17\n",
       "                         1.170739e+09     6\n",
       "                         7.163072e+09     1\n",
       "           Product100    6.115783e+08     1\n",
       "                         6.727437e+09     3\n",
       "                         8.409482e+09     3\n",
       "           Product101    7.700330e+05     1\n",
       "                         5.269090e+08     1\n",
       "                         5.004945e+09     2\n",
       "                         5.288345e+09     1\n",
       "                         5.389997e+09     1\n",
       "                         6.160111e+09     2\n",
       "           Product102    7.700330e+05     4\n",
       "                         5.004945e+09     1\n",
       "                         5.005710e+09     1\n",
       "                         5.132938e+09     1\n",
       "                         5.389997e+09     2\n",
       "                         6.160111e+09     7\n",
       "           Product103    7.700330e+05     2\n",
       "                         5.269090e+08     1\n",
       "                         6.698108e+08     1\n",
       "                         4.170913e+09     1\n",
       "                         5.004945e+09     2\n",
       "                         5.005710e+09     1\n",
       "                         6.160111e+09     3\n",
       "                                         ..\n",
       "Store9     Product86     7.132361e+08     1\n",
       "                         1.164748e+09     1\n",
       "                         5.674171e+09     1\n",
       "                         6.160111e+09     3\n",
       "                         6.190228e+09     1\n",
       "                         6.247225e+09     1\n",
       "                         6.774635e+09     1\n",
       "                         7.307759e+09     1\n",
       "           Product87    -2.009932e+09     1\n",
       "                         7.700330e+05     4\n",
       "                         6.274181e+08     1\n",
       "                         5.389997e+09     1\n",
       "                         5.870548e+09     1\n",
       "                         6.160111e+09     1\n",
       "                         6.630723e+09     1\n",
       "           Product9      5.994382e+09     4\n",
       "           Product94     7.700330e+05     3\n",
       "                         6.160111e+08     1\n",
       "                         4.622969e+09     1\n",
       "           Product95     5.205939e+09     1\n",
       "                         8.409482e+09     2\n",
       "           Product96     8.404734e+09     1\n",
       "                         8.409482e+09     4\n",
       "           Product97     6.727437e+09     3\n",
       "                         8.409482e+09     3\n",
       "           Product98     6.727437e+09     2\n",
       "                         8.409482e+09     4\n",
       "           Product99     6.727437e+09     1\n",
       "                         7.107299e+09     1\n",
       "                         8.409482e+09     4\n",
       "dtype: int64"
      ]
     },
     "execution_count": 60,
     "metadata": {},
     "output_type": "execute_result"
    }
   ],
   "source": [
    "#data_array = np.array(data)\n",
    "data['ProductPrice'] = data['SalesRevenue']/data['SalesQuantity']\n",
    "d = data.groupby([\"StoreCode\",\"ProductCode\", \"ProductPrice\"]).size()\n",
    "d\n"
   ]
  }
 ],
 "metadata": {
  "kernelspec": {
   "display_name": "Python 3",
   "language": "python",
   "name": "python3"
  },
  "language_info": {
   "codemirror_mode": {
    "name": "ipython",
    "version": 3
   },
   "file_extension": ".py",
   "mimetype": "text/x-python",
   "name": "python",
   "nbconvert_exporter": "python",
   "pygments_lexer": "ipython3",
   "version": "3.6.0"
  }
 },
 "nbformat": 4,
 "nbformat_minor": 2
}
